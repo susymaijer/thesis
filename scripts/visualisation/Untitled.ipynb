{
 "cells": [
  {
   "cell_type": "code",
   "execution_count": 3,
   "metadata": {},
   "outputs": [
    {
     "name": "stdout",
     "output_type": "stream",
     "text": [
      "Collecting nibabel\n",
      "  Using cached nibabel-4.0.2-py3-none-any.whl (3.3 MB)\n",
      "Collecting setuptools\n",
      "  Using cached setuptools-65.3.0-py3-none-any.whl (1.2 MB)\n",
      "Collecting packaging>=17.0\n",
      "  Using cached packaging-21.3-py3-none-any.whl (40 kB)\n",
      "Collecting numpy>=1.17\n",
      "  Using cached numpy-1.23.2-cp310-cp310-manylinux_2_17_x86_64.manylinux2014_x86_64.whl (17.0 MB)\n",
      "Collecting pyparsing!=3.0.5,>=2.0.2\n",
      "  Using cached pyparsing-3.0.9-py3-none-any.whl (98 kB)\n",
      "Installing collected packages: pyparsing, setuptools, packaging, numpy, nibabel\n",
      "Successfully installed nibabel-4.0.2 numpy-1.23.2 packaging-21.3 pyparsing-3.0.9 setuptools-65.3.0\n",
      "\u001b[33mWARNING: Target directory /exports/lkeb-hpc/smaijer/venv_environments/pancreasThesis/target/numpy already exists. Specify --upgrade to force replacement.\u001b[0m\n",
      "\u001b[33mWARNING: Target directory /exports/lkeb-hpc/smaijer/venv_environments/pancreasThesis/target/_distutils_hack already exists. Specify --upgrade to force replacement.\u001b[0m\n",
      "\u001b[33mWARNING: Target directory /exports/lkeb-hpc/smaijer/venv_environments/pancreasThesis/target/pyparsing-3.0.9.dist-info already exists. Specify --upgrade to force replacement.\u001b[0m\n",
      "\u001b[33mWARNING: Target directory /exports/lkeb-hpc/smaijer/venv_environments/pancreasThesis/target/pkg_resources already exists. Specify --upgrade to force replacement.\u001b[0m\n",
      "\u001b[33mWARNING: Target directory /exports/lkeb-hpc/smaijer/venv_environments/pancreasThesis/target/pyparsing already exists. Specify --upgrade to force replacement.\u001b[0m\n",
      "\u001b[33mWARNING: Target directory /exports/lkeb-hpc/smaijer/venv_environments/pancreasThesis/target/nibabel already exists. Specify --upgrade to force replacement.\u001b[0m\n",
      "\u001b[33mWARNING: Target directory /exports/lkeb-hpc/smaijer/venv_environments/pancreasThesis/target/packaging already exists. Specify --upgrade to force replacement.\u001b[0m\n",
      "\u001b[33mWARNING: Target directory /exports/lkeb-hpc/smaijer/venv_environments/pancreasThesis/target/setuptools-65.3.0.dist-info already exists. Specify --upgrade to force replacement.\u001b[0m\n",
      "\u001b[33mWARNING: Target directory /exports/lkeb-hpc/smaijer/venv_environments/pancreasThesis/target/distutils-precedence.pth already exists. Specify --upgrade to force replacement.\u001b[0m\n",
      "\u001b[33mWARNING: Target directory /exports/lkeb-hpc/smaijer/venv_environments/pancreasThesis/target/numpy.libs already exists. Specify --upgrade to force replacement.\u001b[0m\n",
      "\u001b[33mWARNING: Target directory /exports/lkeb-hpc/smaijer/venv_environments/pancreasThesis/target/nibabel-4.0.2.dist-info already exists. Specify --upgrade to force replacement.\u001b[0m\n",
      "\u001b[33mWARNING: Target directory /exports/lkeb-hpc/smaijer/venv_environments/pancreasThesis/target/numpy-1.23.2.dist-info already exists. Specify --upgrade to force replacement.\u001b[0m\n",
      "\u001b[33mWARNING: Target directory /exports/lkeb-hpc/smaijer/venv_environments/pancreasThesis/target/nisext already exists. Specify --upgrade to force replacement.\u001b[0m\n",
      "\u001b[33mWARNING: Target directory /exports/lkeb-hpc/smaijer/venv_environments/pancreasThesis/target/packaging-21.3.dist-info already exists. Specify --upgrade to force replacement.\u001b[0m\n",
      "\u001b[33mWARNING: Target directory /exports/lkeb-hpc/smaijer/venv_environments/pancreasThesis/target/setuptools already exists. Specify --upgrade to force replacement.\u001b[0m\n",
      "\u001b[33mWARNING: Target directory /exports/lkeb-hpc/smaijer/venv_environments/pancreasThesis/target/bin already exists. Specify --upgrade to force replacement.\u001b[0m\n",
      "\u001b[33mWARNING: You are using pip version 21.2.4; however, version 22.2.2 is available.\n",
      "You should consider upgrading via the '/exports/lkeb-hpc/smaijer/venv_environments/pancreasThesis/bin/python3 -m pip install --upgrade pip' command.\u001b[0m\n"
     ]
    },
    {
     "ename": "ModuleNotFoundError",
     "evalue": "No module named 'nibabel'",
     "output_type": "error",
     "traceback": [
      "\u001b[0;31m---------------------------------------------------------------------------\u001b[0m",
      "\u001b[0;31mModuleNotFoundError\u001b[0m                       Traceback (most recent call last)",
      "\u001b[0;32m<ipython-input-3-de27f3412a9c>\u001b[0m in \u001b[0;36m<module>\u001b[0;34m\u001b[0m\n\u001b[1;32m      2\u001b[0m \u001b[0;32mimport\u001b[0m \u001b[0mos\u001b[0m\u001b[0;34m\u001b[0m\u001b[0;34m\u001b[0m\u001b[0m\n\u001b[1;32m      3\u001b[0m \u001b[0;32mimport\u001b[0m \u001b[0msys\u001b[0m\u001b[0;34m\u001b[0m\u001b[0;34m\u001b[0m\u001b[0m\n\u001b[0;32m----> 4\u001b[0;31m \u001b[0;32mimport\u001b[0m \u001b[0mnibabel\u001b[0m \u001b[0;32mas\u001b[0m \u001b[0mnib\u001b[0m\u001b[0;34m\u001b[0m\u001b[0;34m\u001b[0m\u001b[0m\n\u001b[0m\u001b[1;32m      5\u001b[0m \u001b[0;32mimport\u001b[0m \u001b[0mnumpy\u001b[0m \u001b[0;32mas\u001b[0m \u001b[0mnp\u001b[0m\u001b[0;34m\u001b[0m\u001b[0;34m\u001b[0m\u001b[0m\n\u001b[1;32m      6\u001b[0m \u001b[0;32mimport\u001b[0m \u001b[0mmatplotlib\u001b[0m\u001b[0;34m.\u001b[0m\u001b[0mpyplot\u001b[0m \u001b[0;32mas\u001b[0m \u001b[0mplt\u001b[0m\u001b[0;34m\u001b[0m\u001b[0;34m\u001b[0m\u001b[0m\n",
      "\u001b[0;31mModuleNotFoundError\u001b[0m: No module named 'nibabel'"
     ]
    }
   ],
   "source": [
    "!pip install nibabel \n",
    "import os\n",
    "import sys\n",
    "import nibabel as nib\n",
    "import numpy as np\n",
    "import matplotlib.pyplot as plt\n",
    "# ipywidgets for some interactive plots\n",
    "from ipywidgets.widgets import *\n",
    "\n",
    "#### administrative stuff\n",
    "\n",
    "def get_filename_from_rel_id(img_path, rel_patient_id):\n",
    "    return os.listdir(img_path)[rel_patient_id]\n",
    "\n",
    "def get_patient_id_from_filename(filename):\n",
    "    file_name = filename.split(\".\")[0]\n",
    "    parts = file_name.split(\"_\")\n",
    "    return parts[1]\n",
    "\n",
    "def get_patient_id_from_rel_id(img_path, rel_patient_id):\n",
    "    filename = get_filename_from_rel_id(img_path, rel_patient_id)\n",
    "    return get_patient_id_from_filename(filename)\n",
    "\n",
    "def get_filename(patient_id, modality= None):\n",
    "    if modality:\n",
    "        filename = f'/panc_{patient_id}_{modality}.nii.gz'\n",
    "    else:\n",
    "        filename = f'/panc_{patient_id}.nii.gz'\n",
    "    return filename\n",
    "def get_file(img_path, patient_id, modality = None):\n",
    "    filename = get_filename(patient_id, modality)\n",
    "    return nib.load(img_path + filename)\n",
    "\n",
    "def get_3d_array(img_path, patient_id, modality = None):\n",
    "    return np.array(get_file(img_path, patient_id, modality).dataobj)\n",
    "\n",
    "#### visualisation functions\n",
    "\n",
    "def visualise(x):\n",
    "    img_slice = img[:,:,x]\n",
    "    seg_slice = seg[:,:,x]\n",
    "    print(f'Dimensions: {img.shape}')\n",
    "\n",
    "    # show label single slice\n",
    "    f = plt.figure(figsize=(30,30))\n",
    "    a1 = f.add_subplot(2, 2, 1)\n",
    "    plt.imshow(seg_slice, cmap=plt.cm.gray)\n",
    "\n",
    "    # show label over dicom\n",
    "    a1 = f.add_subplot(2, 2, 2)\n",
    "    plt.imshow(img_slice, cmap=plt.cm.gray)\n",
    "    plt.imshow(seg_slice, cmap=plt.cm.jet_r, alpha=0.1)\n",
    "\n",
    "    # show label over dicom\n",
    "    a1 = f.add_subplot(2, 2, 3)\n",
    "    plt.imshow(img_slice, cmap=plt.cm.gray)\n",
    "    plt.show()\n",
    "\n",
    "    return x\n"
   ]
  },
  {
   "cell_type": "code",
   "execution_count": null,
   "metadata": {},
   "outputs": [],
   "source": []
  },
  {
   "cell_type": "code",
   "execution_count": 2,
   "metadata": {},
   "outputs": [
    {
     "data": {
      "text/plain": [
       "'/share/software/tools/jupyter/jupyterlab/bin/python3'"
      ]
     },
     "execution_count": 2,
     "metadata": {},
     "output_type": "execute_result"
    }
   ],
   "source": [
    "import sys\n",
    "sys.executable"
   ]
  },
  {
   "cell_type": "code",
   "execution_count": null,
   "metadata": {},
   "outputs": [],
   "source": []
  },
  {
   "cell_type": "code",
   "execution_count": null,
   "metadata": {},
   "outputs": [],
   "source": []
  },
  {
   "cell_type": "code",
   "execution_count": null,
   "metadata": {},
   "outputs": [],
   "source": []
  }
 ],
 "metadata": {
  "kernelspec": {
   "display_name": "Python 3",
   "language": "python",
   "name": "python3"
  },
  "language_info": {
   "codemirror_mode": {
    "name": "ipython",
    "version": 3
   },
   "file_extension": ".py",
   "mimetype": "text/x-python",
   "name": "python",
   "nbconvert_exporter": "python",
   "pygments_lexer": "ipython3",
   "version": "3.6.8"
  }
 },
 "nbformat": 4,
 "nbformat_minor": 4
}
